{
 "cells": [
  {
   "cell_type": "code",
   "execution_count": 5,
   "metadata": {},
   "outputs": [],
   "source": [
    "import pandas as pd\n",
    "import numpy as np"
   ]
  },
  {
   "cell_type": "code",
   "execution_count": 6,
   "metadata": {},
   "outputs": [
    {
     "data": {
      "text/plain": [
       "True"
      ]
     },
     "execution_count": 6,
     "metadata": {},
     "output_type": "execute_result"
    }
   ],
   "source": [
    "import torch\n",
    "torch.cuda.is_available()"
   ]
  },
  {
   "cell_type": "code",
   "execution_count": 7,
   "metadata": {},
   "outputs": [
    {
     "data": {
      "text/plain": [
       "'GeForce RTX 2060'"
      ]
     },
     "execution_count": 7,
     "metadata": {},
     "output_type": "execute_result"
    }
   ],
   "source": [
    "torch.cuda.get_device_name(0)"
   ]
  },
  {
   "cell_type": "code",
   "execution_count": 13,
   "metadata": {},
   "outputs": [],
   "source": [
    "def import_data(csv): \n",
    "    \n",
    "    df = pd.read_csv(csv)\n",
    "    df.index = pd.to_datetime(df['date'], format='%Y-%m-%d')\n",
    "    df = df.drop('date', axis=1)\n",
    "    \n",
    "    close_columns = []\n",
    "    high_columns = []\n",
    "    low_columns = []\n",
    "    open_columns = []\n",
    "    volume_columns = []\n",
    "    open_int_columns = []\n",
    "\n",
    "    for i in df.columns:\n",
    "        if \"close\" in i:\n",
    "            close_columns.append(i)\n",
    "        elif \"high\" in i:\n",
    "            high_columns.append(i)\n",
    "        elif \"low\" in i:\n",
    "            low_columns.append(i)\n",
    "        elif \"open_int\" in i:\n",
    "            open_int_columns.append(i)\n",
    "        elif \"open\" in i:\n",
    "            open_columns.append(i)\n",
    "        elif \"volume\" in i:\n",
    "            volume_columns.append(i)\n",
    "\n",
    "    close_df = df[close_columns]\n",
    "    high_df = df[high_columns]\n",
    "    low_df = df[low_columns]\n",
    "    open_df = df[open_columns]\n",
    "    volume_df = df[volume_columns]\n",
    "    open_int_df = df[open_int_columns]\n",
    "    \n",
    "    return [close_df, high_df, low_df, open_df, volume_df, open_int_df]\n",
    "\n",
    "def garman_klass_vol(high_df, low_df, close_df, open_df, period=60):\n",
    "    \"\"\"\n",
    "    Estima a volatilidade a partir dos seguintes preços: alta, baixa, abertura e fechamento\n",
    "    \"\"\"\n",
    "    # Calculando parcelas internas da somatoria\n",
    "    x_hl = (1/2)*(np.log(np.divide(high_df, low_df))) ** 2\n",
    "    x_co = - (2 * np.log(2) - 1)* (np.log(np.divide(close_df, open_df))**2)\n",
    "    \n",
    "    # Somando parcelas calculadas\n",
    "    x = x_hl + x_co.values\n",
    "    \n",
    "    x.columns = [x[0:3] + \"gk\" for x in x.columns]\n",
    "    \n",
    "    # Criando dataframe para atribuir as volatilidades\n",
    "    gk = x.copy()\n",
    "    \n",
    "    # Termo constante fora da somatoria (Considerando vol diaria)\n",
    "    const = 1/period\n",
    "    \n",
    "    # Atribuindo not a number, para os valores iniciais\n",
    "    gk.iloc[:period,:] = np.nan\n",
    "    \n",
    "    # iteração do centro de massa da vol\n",
    "    for row in range(period, len(high_df)):\n",
    "        gk.iloc[row] = np.sqrt(const * np.sum(x.iloc[row-period:row,:]))\n",
    "        \n",
    "    return gk\n",
    "\n",
    "def parkinson_vol(high_df, low_df, period=60):\n",
    "    \"\"\"\n",
    "    Estimando a volatilidade a partir dos preço de Alta e de Baixa\n",
    "    \"\"\"\n",
    "    \n",
    "    # Calculando parcela interna da somatoria\n",
    "    x = np.log(np.divide(high_df, low_df)) ** 2\n",
    "    x.columns = [x[0:3] + \"pv\" for x in x.columns]\n",
    "    \n",
    "    # Criando dataframe para atribuir as volatilidades\n",
    "    pv = x.copy()\n",
    "    \n",
    "    # Termo constante fora da somatoria (Considerando vol diaria)\n",
    "    const = 1 / (4 * period * np.log(2))\n",
    "    \n",
    "    # Atribuindo not a number, para os valores iniciais\n",
    "    pv.iloc[:period,:] = np.nan\n",
    "        \n",
    "    # iteração do centro de massa da vol\n",
    "    for row in range(period, len(high_df)):\n",
    "        pv.iloc[row] = np.sqrt(const * np.sum(x.iloc[row-period:row,:]))\n",
    "        \n",
    "    return pv\n",
    "\n",
    "def monthly_volume(volume, period=20):\n",
    "    \n",
    "    daily_volume = volume.copy()\n",
    "    \n",
    "    for row in range(period, len(volume)):\n",
    "        daily_volume.iloc[row] = volume.iloc[row-period:row,:].cumsum().iloc[-1]\n",
    "        \n",
    "    monthly_volume = daily_volume.resample(\"BM\").last().ffill()\n",
    "    \n",
    "    return monthly_volume\n",
    "\n",
    "def train_test(stock):\n",
    "    train = pd.DataFrame()\n",
    "\n",
    "    train[\"Returns Monthly\"] = returns_monthly.iloc[:,stock]\n",
    "    train[\"EWMA\"] = vol_monthly.iloc[:,stock]\n",
    "    train[\"Parkinson\"] = pv_monthly.iloc[:,stock]\n",
    "    train[\"Garman-Klass\"] = gk_monthly.iloc[:,stock]\n",
    "    train[\"Monthly Volume\"] = monthly_volume.iloc[:,stock]\n",
    "\n",
    "    prices = close_df.iloc[:,stock]\n",
    "\n",
    "    for lag in [3, 6, 9, 12]:\n",
    "        train[\"Momentum \" + str(lag)] = prices.pct_change(lag * 21)\n",
    "\n",
    "    target = train[\"Returns Monthly\"].shift(-1)\n",
    "    \n",
    "    features = train.dropna()\n",
    "    target = target.dropna().loc['2000-07-31':]\n",
    "    \n",
    "    return (features, target)"
   ]
  },
  {
   "cell_type": "code",
   "execution_count": 14,
   "metadata": {},
   "outputs": [],
   "source": [
    "close_df, high_df, low_df, open_df, volume_df, open_int_df = import_data(\"../data.csv\")\n",
    "\n",
    "# Retornos diários\n",
    "returns_daily = close_df.pct_change().fillna(0)\n",
    "\n",
    "# Retornos mensais\n",
    "returns_monthly = close_df.pct_change(20).fillna(0).resample('BM').last().ffill()\n",
    "\n",
    "# Vol diária\n",
    "vol_daily = returns_daily.ewm(adjust=True, com=60, min_periods=0).std().dropna()\n",
    "\n",
    "# Vol de 261 dias, apenas o último dia de cada mês\n",
    "vol_monthly = (np.sqrt(261)*vol_daily).resample('BM').last().ffill()\n",
    "\n",
    "pv_df = parkinson_vol(high_df, low_df)\n",
    "pv_monthly = (np.sqrt(261)*pv_df).resample('BM').last().ffill()\n",
    "\n",
    "gk_df = garman_klass_vol(high_df, low_df, close_df, open_df)\n",
    "gk_monthly = (np.sqrt(261)*gk_df).resample('BM').last().ffill()\n",
    "\n",
    "monthly_volume = monthly_volume(volume_df)\n",
    "\n",
    "feature, target = train_test(1)"
   ]
  },
  {
   "cell_type": "code",
   "execution_count": 15,
   "metadata": {},
   "outputs": [
    {
     "data": {
      "text/html": [
       "<div>\n",
       "<style scoped>\n",
       "    .dataframe tbody tr th:only-of-type {\n",
       "        vertical-align: middle;\n",
       "    }\n",
       "\n",
       "    .dataframe tbody tr th {\n",
       "        vertical-align: top;\n",
       "    }\n",
       "\n",
       "    .dataframe thead th {\n",
       "        text-align: right;\n",
       "    }\n",
       "</style>\n",
       "<table border=\"1\" class=\"dataframe\">\n",
       "  <thead>\n",
       "    <tr style=\"text-align: right;\">\n",
       "      <th></th>\n",
       "      <th>Returns Monthly</th>\n",
       "      <th>EWMA</th>\n",
       "      <th>Parkinson</th>\n",
       "      <th>Garman-Klass</th>\n",
       "      <th>Monthly Volume</th>\n",
       "      <th>Momentum 3</th>\n",
       "      <th>Momentum 6</th>\n",
       "      <th>Momentum 9</th>\n",
       "      <th>Momentum 12</th>\n",
       "    </tr>\n",
       "    <tr>\n",
       "      <th>date</th>\n",
       "      <th></th>\n",
       "      <th></th>\n",
       "      <th></th>\n",
       "      <th></th>\n",
       "      <th></th>\n",
       "      <th></th>\n",
       "      <th></th>\n",
       "      <th></th>\n",
       "      <th></th>\n",
       "    </tr>\n",
       "  </thead>\n",
       "  <tbody>\n",
       "    <tr>\n",
       "      <th>2000-07-31</th>\n",
       "      <td>-0.013500</td>\n",
       "      <td>0.081672</td>\n",
       "      <td>0.090117</td>\n",
       "      <td>0.087723</td>\n",
       "      <td>135249.0</td>\n",
       "      <td>-0.051498</td>\n",
       "      <td>-0.084389</td>\n",
       "      <td>-0.095780</td>\n",
       "      <td>-0.052628</td>\n",
       "    </tr>\n",
       "    <tr>\n",
       "      <th>2000-08-31</th>\n",
       "      <td>-0.031493</td>\n",
       "      <td>0.076585</td>\n",
       "      <td>0.078957</td>\n",
       "      <td>0.080442</td>\n",
       "      <td>137686.0</td>\n",
       "      <td>-0.025209</td>\n",
       "      <td>-0.094248</td>\n",
       "      <td>-0.106080</td>\n",
       "      <td>-0.107423</td>\n",
       "    </tr>\n",
       "    <tr>\n",
       "      <th>2000-09-29</th>\n",
       "      <td>0.010879</td>\n",
       "      <td>0.095101</td>\n",
       "      <td>0.092941</td>\n",
       "      <td>0.094567</td>\n",
       "      <td>227772.0</td>\n",
       "      <td>-0.017524</td>\n",
       "      <td>-0.063966</td>\n",
       "      <td>-0.096061</td>\n",
       "      <td>-0.084917</td>\n",
       "    </tr>\n",
       "    <tr>\n",
       "      <th>2000-10-31</th>\n",
       "      <td>-0.010391</td>\n",
       "      <td>0.097895</td>\n",
       "      <td>0.104744</td>\n",
       "      <td>0.107019</td>\n",
       "      <td>101142.0</td>\n",
       "      <td>-0.045012</td>\n",
       "      <td>-0.090034</td>\n",
       "      <td>-0.116647</td>\n",
       "      <td>-0.124354</td>\n",
       "    </tr>\n",
       "    <tr>\n",
       "      <th>2000-11-30</th>\n",
       "      <td>-0.019273</td>\n",
       "      <td>0.092711</td>\n",
       "      <td>0.111326</td>\n",
       "      <td>0.112521</td>\n",
       "      <td>92974.0</td>\n",
       "      <td>-0.043417</td>\n",
       "      <td>-0.050007</td>\n",
       "      <td>-0.119602</td>\n",
       "      <td>-0.133054</td>\n",
       "    </tr>\n",
       "  </tbody>\n",
       "</table>\n",
       "</div>"
      ],
      "text/plain": [
       "            Returns Monthly      EWMA  Parkinson  Garman-Klass  \\\n",
       "date                                                             \n",
       "2000-07-31        -0.013500  0.081672   0.090117      0.087723   \n",
       "2000-08-31        -0.031493  0.076585   0.078957      0.080442   \n",
       "2000-09-29         0.010879  0.095101   0.092941      0.094567   \n",
       "2000-10-31        -0.010391  0.097895   0.104744      0.107019   \n",
       "2000-11-30        -0.019273  0.092711   0.111326      0.112521   \n",
       "\n",
       "            Monthly Volume  Momentum 3  Momentum 6  Momentum 9  Momentum 12  \n",
       "date                                                                         \n",
       "2000-07-31        135249.0   -0.051498   -0.084389   -0.095780    -0.052628  \n",
       "2000-08-31        137686.0   -0.025209   -0.094248   -0.106080    -0.107423  \n",
       "2000-09-29        227772.0   -0.017524   -0.063966   -0.096061    -0.084917  \n",
       "2000-10-31        101142.0   -0.045012   -0.090034   -0.116647    -0.124354  \n",
       "2000-11-30         92974.0   -0.043417   -0.050007   -0.119602    -0.133054  "
      ]
     },
     "execution_count": 15,
     "metadata": {},
     "output_type": "execute_result"
    }
   ],
   "source": [
    "feature.head()"
   ]
  },
  {
   "cell_type": "code",
   "execution_count": 16,
   "metadata": {},
   "outputs": [],
   "source": [
    "import torch\n",
    "import torch.nn as nn\n",
    "import torch.nn.functional as F"
   ]
  },
  {
   "cell_type": "code",
   "execution_count": 30,
   "metadata": {},
   "outputs": [],
   "source": [
    "class LinearRegressionModel(nn.Module):\n",
    "\n",
    "    def __init__(self, input_dim, output_dim):\n",
    "\n",
    "        super(LinearRegressionModel, self).__init__() \n",
    "        self.linear = nn.Linear(input_dim, output_dim)\n",
    "\n",
    "    def forward(self, x):\n",
    "        out = self.linear(x)\n",
    "        return out"
   ]
  },
  {
   "cell_type": "code",
   "execution_count": 28,
   "metadata": {},
   "outputs": [],
   "source": [
    "feature_tensor = torch.tensor(feature.values)\n",
    "\n",
    "target_tensor = torch.tensor(target.values)"
   ]
  },
  {
   "cell_type": "code",
   "execution_count": 31,
   "metadata": {},
   "outputs": [],
   "source": [
    "model = LinearRegressionModel(1, 1)\n",
    "\n",
    "criterion = nn.MSELoss()\n",
    "learing_rate = 0.01\n",
    "optimizer = torch.optim.SGD(model.parameters(), lr=learing_rate)\n",
    "\n",
    "epochs = 2000"
   ]
  },
  {
   "cell_type": "code",
   "execution_count": 22,
   "metadata": {},
   "outputs": [
    {
     "data": {
      "text/plain": [
       "Neural_Network()"
      ]
     },
     "execution_count": 22,
     "metadata": {},
     "output_type": "execute_result"
    }
   ],
   "source": [
    "model = Neural_Network()\n",
    "model"
   ]
  },
  {
   "cell_type": "code",
   "execution_count": 23,
   "metadata": {},
   "outputs": [
    {
     "ename": "TypeError",
     "evalue": "matmul(): argument 'input' (position 1) must be Tensor, not DataFrame",
     "output_type": "error",
     "traceback": [
      "\u001b[0;31m---------------------------------------------------------------------------\u001b[0m",
      "\u001b[0;31mTypeError\u001b[0m                                 Traceback (most recent call last)",
      "\u001b[0;32m<ipython-input-23-db2aa11feb94>\u001b[0m in \u001b[0;36m<module>\u001b[0;34m\u001b[0m\n\u001b[0;32m----> 1\u001b[0;31m \u001b[0mmodel\u001b[0m\u001b[0;34m.\u001b[0m\u001b[0mtrain\u001b[0m\u001b[0;34m(\u001b[0m\u001b[0mfeature\u001b[0m\u001b[0;34m,\u001b[0m \u001b[0mtarget\u001b[0m\u001b[0;34m)\u001b[0m\u001b[0;34m\u001b[0m\u001b[0;34m\u001b[0m\u001b[0m\n\u001b[0m",
      "\u001b[0;32m<ipython-input-21-bb2fd0c5a2cc>\u001b[0m in \u001b[0;36mtrain\u001b[0;34m(self, X, y)\u001b[0m\n\u001b[1;32m     36\u001b[0m     \u001b[0;32mdef\u001b[0m \u001b[0mtrain\u001b[0m\u001b[0;34m(\u001b[0m\u001b[0mself\u001b[0m\u001b[0;34m,\u001b[0m \u001b[0mX\u001b[0m\u001b[0;34m,\u001b[0m \u001b[0my\u001b[0m\u001b[0;34m)\u001b[0m\u001b[0;34m:\u001b[0m\u001b[0;34m\u001b[0m\u001b[0;34m\u001b[0m\u001b[0m\n\u001b[1;32m     37\u001b[0m         \u001b[0;31m# forward + backward pass for training\u001b[0m\u001b[0;34m\u001b[0m\u001b[0;34m\u001b[0m\u001b[0;34m\u001b[0m\u001b[0m\n\u001b[0;32m---> 38\u001b[0;31m         \u001b[0mo\u001b[0m \u001b[0;34m=\u001b[0m \u001b[0mself\u001b[0m\u001b[0;34m.\u001b[0m\u001b[0mforward\u001b[0m\u001b[0;34m(\u001b[0m\u001b[0mX\u001b[0m\u001b[0;34m)\u001b[0m\u001b[0;34m\u001b[0m\u001b[0;34m\u001b[0m\u001b[0m\n\u001b[0m\u001b[1;32m     39\u001b[0m         \u001b[0mself\u001b[0m\u001b[0;34m.\u001b[0m\u001b[0mbackward\u001b[0m\u001b[0;34m(\u001b[0m\u001b[0mX\u001b[0m\u001b[0;34m,\u001b[0m \u001b[0my\u001b[0m\u001b[0;34m,\u001b[0m \u001b[0mo\u001b[0m\u001b[0;34m)\u001b[0m\u001b[0;34m\u001b[0m\u001b[0;34m\u001b[0m\u001b[0m\n\u001b[1;32m     40\u001b[0m \u001b[0;34m\u001b[0m\u001b[0m\n",
      "\u001b[0;32m<ipython-input-21-bb2fd0c5a2cc>\u001b[0m in \u001b[0;36mforward\u001b[0;34m(self, X)\u001b[0m\n\u001b[1;32m     13\u001b[0m \u001b[0;34m\u001b[0m\u001b[0m\n\u001b[1;32m     14\u001b[0m     \u001b[0;32mdef\u001b[0m \u001b[0mforward\u001b[0m\u001b[0;34m(\u001b[0m\u001b[0mself\u001b[0m\u001b[0;34m,\u001b[0m \u001b[0mX\u001b[0m\u001b[0;34m)\u001b[0m\u001b[0;34m:\u001b[0m\u001b[0;34m\u001b[0m\u001b[0;34m\u001b[0m\u001b[0m\n\u001b[0;32m---> 15\u001b[0;31m         \u001b[0mself\u001b[0m\u001b[0;34m.\u001b[0m\u001b[0mz\u001b[0m \u001b[0;34m=\u001b[0m \u001b[0mtorch\u001b[0m\u001b[0;34m.\u001b[0m\u001b[0mmatmul\u001b[0m\u001b[0;34m(\u001b[0m\u001b[0mX\u001b[0m\u001b[0;34m,\u001b[0m \u001b[0mself\u001b[0m\u001b[0;34m.\u001b[0m\u001b[0mW1\u001b[0m\u001b[0;34m)\u001b[0m \u001b[0;31m# 3 X 3 \".dot\" does not broadcast in PyTorch\u001b[0m\u001b[0;34m\u001b[0m\u001b[0;34m\u001b[0m\u001b[0m\n\u001b[0m\u001b[1;32m     16\u001b[0m         \u001b[0mself\u001b[0m\u001b[0;34m.\u001b[0m\u001b[0mz2\u001b[0m \u001b[0;34m=\u001b[0m \u001b[0mself\u001b[0m\u001b[0;34m.\u001b[0m\u001b[0msigmoid\u001b[0m\u001b[0;34m(\u001b[0m\u001b[0mself\u001b[0m\u001b[0;34m.\u001b[0m\u001b[0mz\u001b[0m\u001b[0;34m)\u001b[0m \u001b[0;31m# activation function\u001b[0m\u001b[0;34m\u001b[0m\u001b[0;34m\u001b[0m\u001b[0m\n\u001b[1;32m     17\u001b[0m         \u001b[0mself\u001b[0m\u001b[0;34m.\u001b[0m\u001b[0mz3\u001b[0m \u001b[0;34m=\u001b[0m \u001b[0mtorch\u001b[0m\u001b[0;34m.\u001b[0m\u001b[0mmatmul\u001b[0m\u001b[0;34m(\u001b[0m\u001b[0mself\u001b[0m\u001b[0;34m.\u001b[0m\u001b[0mz2\u001b[0m\u001b[0;34m,\u001b[0m \u001b[0mself\u001b[0m\u001b[0;34m.\u001b[0m\u001b[0mW2\u001b[0m\u001b[0;34m)\u001b[0m\u001b[0;34m\u001b[0m\u001b[0;34m\u001b[0m\u001b[0m\n",
      "\u001b[0;31mTypeError\u001b[0m: matmul(): argument 'input' (position 1) must be Tensor, not DataFrame"
     ]
    }
   ],
   "source": [
    "NN = Neural_Network()\n",
    "\n",
    "for i in range(1000):  # trains the NN 1,000 times\n",
    "    print (\"#\" + str(i) + \" Loss: \" + str(torch.mean((y - NN(X))**2).detach().item()))  # mean sum squared loss\n",
    "    NN.train(X, y)\n",
    "    \n",
    "NN.saveWeights(NN)\n",
    "NN.predict()"
   ]
  },
  {
   "cell_type": "code",
   "execution_count": null,
   "metadata": {},
   "outputs": [],
   "source": []
  }
 ],
 "metadata": {
  "kernelspec": {
   "display_name": "Python 3",
   "language": "python",
   "name": "python3"
  },
  "language_info": {
   "codemirror_mode": {
    "name": "ipython",
    "version": 3
   },
   "file_extension": ".py",
   "mimetype": "text/x-python",
   "name": "python",
   "nbconvert_exporter": "python",
   "pygments_lexer": "ipython3",
   "version": "3.7.9"
  }
 },
 "nbformat": 4,
 "nbformat_minor": 4
}
